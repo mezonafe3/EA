{
 "cells": [
  {
   "cell_type": "code",
   "execution_count": 1,
   "id": "07c7b942",
   "metadata": {},
   "outputs": [],
   "source": [
    "import tkinter as tk\n",
    "from tkinter import messagebox\n",
    "import numpy as np\n",
    "import matplotlib.pyplot as plt\n",
    "import random\n",
    "import math\n",
    "import pandas as pd\n",
    "from IPython.display import display, clear_output\n",
    "import time"
   ]
  },
  {
   "cell_type": "code",
   "execution_count": 2,
   "id": "6e8d5f37",
   "metadata": {},
   "outputs": [],
   "source": [
    "temp = 10000\n",
    "cooling_rate = 0.001"
   ]
  },
  {
   "cell_type": "code",
   "execution_count": 3,
   "id": "4f0cbd51",
   "metadata": {},
   "outputs": [],
   "source": [
    "def distance(city1, city2):\n",
    "    return math.sqrt((city1[0] - city2[0]) ** 2 + (city1[1] - city2[1]) ** 2)"
   ]
  },
  {
   "cell_type": "code",
   "execution_count": 4,
   "id": "72a87577",
   "metadata": {},
   "outputs": [],
   "source": [
    "def total_distance(route):\n",
    "    return sum(distance(cities[route[i]], cities[route[i - 1]]) for i in range(num_cities))"
   ]
  },
  {
   "cell_type": "code",
   "execution_count": 5,
   "id": "bf21dcb3",
   "metadata": {},
   "outputs": [],
   "source": [
    "def initial_population(num_individuals, num_cities):\n",
    "    population = []\n",
    "    base_route = list(range(num_cities))\n",
    "    for _ in range(num_individuals):\n",
    "        random.shuffle(base_route)\n",
    "        population.append(base_route[:])\n",
    "    return population"
   ]
  },
  {
   "cell_type": "code",
   "execution_count": 6,
   "id": "fc624e78",
   "metadata": {},
   "outputs": [],
   "source": [
    "def tournament_selection(population, tournament_size):\n",
    "    competitors = random.sample(population, tournament_size)\n",
    "    sorted_competitors = sorted(competitors, key=lambda x: total_distance(x))\n",
    "    winner = sorted_competitors[0]\n",
    "    return winner"
   ]
  },
  {
   "cell_type": "code",
   "execution_count": 7,
   "id": "89c73267",
   "metadata": {},
   "outputs": [],
   "source": [
    "def recombine(parent1, parent2):\n",
    "    subset_size = int(len(parent1) / 2)\n",
    "    subset1 = random.sample(parent1, subset_size)\n",
    "    subset2 = [city for city in parent2 if city not in subset1]\n",
    "    child_route = subset1 + subset2\n",
    "    return child_route"
   ]
  },
  {
   "cell_type": "code",
   "execution_count": 8,
   "id": "4aaa8354",
   "metadata": {},
   "outputs": [],
   "source": [
    "def mutate(route):\n",
    "    swap_index1, swap_index2 = random.sample(range(len(route)), 2)\n",
    "    route[swap_index1], route[swap_index2] = route[swap_index2], route[swap_index1]\n",
    "    return route"
   ]
  },
  {
   "cell_type": "code",
   "execution_count": 9,
   "id": "64ca0839",
   "metadata": {},
   "outputs": [],
   "source": [
    "def survivor_selection(old_population, offspring, retain_length, random_select_rate=0.05):\n",
    "    sorted_population = sorted(old_population + offspring, key=total_distance)\n",
    "    new_population = sorted_population[:retain_length]\n",
    "\n",
    "    for individual in sorted_population[retain_length:]:\n",
    "        if random.random() < random_select_rate:\n",
    "            new_population.append(individual)\n",
    "\n",
    "    while len(new_population) > len(old_population):\n",
    "        new_population.pop()\n",
    "\n",
    "    return new_population"
   ]
  },
  {
   "cell_type": "code",
   "execution_count": 10,
   "id": "0325fbf2",
   "metadata": {},
   "outputs": [],
   "source": [
    "def simulated_annealing(route, temp, cooling_rate):\n",
    "    current_route = route[:]\n",
    "    best_route = route[:]\n",
    "    current_population = initial_population(4, num_cities)\n",
    "    best_distance = total_distance(route)\n",
    "    distances = [best_distance]\n",
    "\n",
    "    while temp > 1:\n",
    "        new_population = []\n",
    "\n",
    "        for _ in range(len(current_population)):\n",
    "            parent1 = tournament_selection(current_population, 3)\n",
    "            parent2 = tournament_selection(current_population, 3)\n",
    "\n",
    "            if random.random() < 0.5:\n",
    "                child = recombine(parent1, parent2)\n",
    "            else:\n",
    "                child = mutate(parent1)\n",
    "\n",
    "            current_distance = total_distance(child)\n",
    "\n",
    "            if current_distance < best_distance:\n",
    "                best_distance = current_distance\n",
    "                best_route = child\n",
    "\n",
    "            new_population.append(child)\n",
    "\n",
    "        current_population = survivor_selection(current_population, new_population, len(current_population))\n",
    "        temp *= (1 - cooling_rate)\n",
    "\n",
    "    return best_route"
   ]
  },
  {
   "cell_type": "code",
   "execution_count": 11,
   "id": "be3615f1",
   "metadata": {},
   "outputs": [],
   "source": [
    "def start_algorithm():\n",
    "    global num_cities, cities, route, initial_route\n",
    "\n",
    "    inputs = []\n",
    "    for i in range(5):\n",
    "        try:\n",
    "            x = float(entries[i].get())\n",
    "            y = float(entries[i+5].get())\n",
    "            inputs.append((x, y))\n",
    "        except ValueError:\n",
    "            messagebox.showerror(\"Error\", \"Please enter valid numerical inputs for all pairs of indices (x, y).\")\n",
    "            return\n",
    "\n",
    "    num_cities = 5\n",
    "    cities = {i: inputs[i] for i in range(num_cities)}\n",
    "    route = list(cities.keys())\n",
    "    random.shuffle(route)\n",
    "    initial_route = route[:]\n",
    "\n",
    "    best_route = simulated_annealing(route, temp, cooling_rate)\n",
    "\n",
    "    result_label.config(text=\"Best Route: \" + str(best_route) + \"\\nTotal Distance: \" + str(total_distance(best_route)))"
   ]
  },
  {
   "cell_type": "code",
   "execution_count": 43,
   "id": "adef07dd",
   "metadata": {},
   "outputs": [],
   "source": [
    "root = tk.Tk()\n",
    "root.title(\"Simulated Annealing TSP Solver\")\n",
    "root.geometry(\"460x260\")\n",
    "labels = [\"Index 1 (x)\", \"Index 2 (x)\", \"Index 3 (x)\", \"Index 4 (x)\", \"Index 5 (x)\",\n",
    "        \"Index 1 (y)\", \"Index 2 (y)\", \"Index 3 (y)\", \"Index 4 (y)\", \"Index 5 (y)\"]\n",
    "\n",
    "entries = [tk.Entry(root) for _ in range(10)]\n",
    "for i in range(5):\n",
    "        tk.Label(root, text=labels[i]).grid(row=i, column=0, padx=5, pady=5)\n",
    "        entries[i].grid(row=i, column=1, pady=5)\n",
    "for i in range(5,10):\n",
    "        y=i-5\n",
    "        tk.Label(root, text=labels[i]).grid(row=y, column=2, padx=20, pady=5)\n",
    "        entries[i].grid(row=y, column=3, pady=5)\n",
    "\n",
    "start_button = tk.Button(root, text=\"Start Algorithm\", command=start_algorithm)\n",
    "start_button.grid(row=6,columnspan=4,padx=20,pady=10)\n",
    "\n",
    "result_label = tk.Label(root, text=\"\")\n",
    "result_label.grid(row=7,columnspan=4,padx=20,pady=10)\n",
    "\n",
    "root.mainloop()"
   ]
  },
  {
   "cell_type": "code",
   "execution_count": null,
   "id": "caf8e543",
   "metadata": {},
   "outputs": [],
   "source": []
  },
  {
   "cell_type": "code",
   "execution_count": null,
   "id": "d68d55b2",
   "metadata": {},
   "outputs": [],
   "source": []
  }
 ],
 "metadata": {
  "kernelspec": {
   "display_name": "Python 3 (ipykernel)",
   "language": "python",
   "name": "python3"
  },
  "language_info": {
   "codemirror_mode": {
    "name": "ipython",
    "version": 3
   },
   "file_extension": ".py",
   "mimetype": "text/x-python",
   "name": "python",
   "nbconvert_exporter": "python",
   "pygments_lexer": "ipython3",
   "version": "3.11.5"
  }
 },
 "nbformat": 4,
 "nbformat_minor": 5
}
